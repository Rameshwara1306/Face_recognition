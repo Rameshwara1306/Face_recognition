{
 "cells": [
  {
   "cell_type": "code",
   "execution_count": 1,
   "id": "cb6bd15a",
   "metadata": {},
   "outputs": [],
   "source": [
    "#specifying the folder where images are present"
   ]
  },
  {
   "cell_type": "code",
   "execution_count": 2,
   "id": "8323cbe5",
   "metadata": {},
   "outputs": [],
   "source": [
    "TrainingImagePath = \"C:\\\\Users\\\\Sambhu\\\\Desktop\\\\Imarticus\\\\Class Material\\\\Deep Learning\\\\CNN\\\\train_29\""
   ]
  },
  {
   "cell_type": "code",
   "execution_count": 3,
   "id": "da596b09",
   "metadata": {},
   "outputs": [],
   "source": [
    "ValidationImagePath = \"C:\\\\Users\\\\Sambhu\\\\Desktop\\\\Imarticus\\\\Class Material\\\\Deep Learning\\\\CNN\\\\test_29\""
   ]
  },
  {
   "cell_type": "code",
   "execution_count": 4,
   "id": "f1f44baa",
   "metadata": {},
   "outputs": [],
   "source": [
    "from tensorflow import keras"
   ]
  },
  {
   "cell_type": "code",
   "execution_count": 5,
   "id": "0b3a86e5",
   "metadata": {},
   "outputs": [],
   "source": [
    "from keras.preprocessing.image import ImageDataGenerator"
   ]
  },
  {
   "cell_type": "code",
   "execution_count": 6,
   "id": "093f4fd0",
   "metadata": {},
   "outputs": [],
   "source": [
    "#base model"
   ]
  },
  {
   "cell_type": "code",
   "execution_count": 7,
   "id": "13be2a8a",
   "metadata": {},
   "outputs": [],
   "source": [
    "train_datagen = ImageDataGenerator(rescale = 1./255)"
   ]
  },
  {
   "cell_type": "code",
   "execution_count": 8,
   "id": "2c1a367d",
   "metadata": {},
   "outputs": [],
   "source": [
    "test_datagen = ImageDataGenerator(rescale = 1./255)"
   ]
  },
  {
   "cell_type": "code",
   "execution_count": 9,
   "id": "b3ee156d",
   "metadata": {},
   "outputs": [],
   "source": [
    "#Generating the training data"
   ]
  },
  {
   "cell_type": "code",
   "execution_count": 10,
   "id": "dfa42c58",
   "metadata": {},
   "outputs": [
    {
     "name": "stdout",
     "output_type": "stream",
     "text": [
      "Found 136 images belonging to 17 classes.\n"
     ]
    }
   ],
   "source": [
    "training_set = train_datagen.flow_from_directory(TrainingImagePath,\n",
    "                                                target_size = (64,64),\n",
    "                                                batch_size = 20,\n",
    "                                                class_mode = 'categorical')"
   ]
  },
  {
   "cell_type": "markdown",
   "id": "2c15810a",
   "metadata": {},
   "source": [
    "# Validation set"
   ]
  },
  {
   "cell_type": "code",
   "execution_count": 11,
   "id": "fd5caa5e",
   "metadata": {},
   "outputs": [],
   "source": [
    "#Generating the validation data"
   ]
  },
  {
   "cell_type": "code",
   "execution_count": 12,
   "id": "3cc075fc",
   "metadata": {},
   "outputs": [
    {
     "name": "stdout",
     "output_type": "stream",
     "text": [
      "Found 34 images belonging to 17 classes.\n"
     ]
    }
   ],
   "source": [
    "validation_set = test_datagen.flow_from_directory(ValidationImagePath,\n",
    "                                                target_size = (64,64),\n",
    "                                                batch_size = 20,\n",
    "                                                class_mode = 'categorical')"
   ]
  },
  {
   "cell_type": "code",
   "execution_count": 13,
   "id": "2449158c",
   "metadata": {},
   "outputs": [],
   "source": [
    "# Libraries and model type"
   ]
  },
  {
   "cell_type": "code",
   "execution_count": 14,
   "id": "1876bc63",
   "metadata": {},
   "outputs": [],
   "source": [
    "# Create CNN Deep learning model"
   ]
  },
  {
   "cell_type": "code",
   "execution_count": 15,
   "id": "ece0fe30",
   "metadata": {},
   "outputs": [],
   "source": [
    "from keras.models import Sequential\n",
    "from keras.layers import Convolution2D\n",
    "from keras.layers import MaxPool2D\n",
    "from keras.layers import Flatten\n",
    "from keras.layers import Dense"
   ]
  },
  {
   "cell_type": "code",
   "execution_count": 16,
   "id": "8e020c1c",
   "metadata": {},
   "outputs": [],
   "source": [
    "# Initializing the Convolutional Neural Network"
   ]
  },
  {
   "cell_type": "code",
   "execution_count": 17,
   "id": "2fff8cc7",
   "metadata": {},
   "outputs": [],
   "source": [
    "classifier = Sequential()"
   ]
  },
  {
   "cell_type": "markdown",
   "id": "4cfe1d78",
   "metadata": {},
   "source": [
    "# MODEL"
   ]
  },
  {
   "cell_type": "code",
   "execution_count": 18,
   "id": "8492de9e",
   "metadata": {},
   "outputs": [],
   "source": [
    "# STEP 1 Convolution\n",
    "# Adding th e first layer of CNN\n",
    "# We are using the format (64,64,3) because we are using Tensorflow backend\n",
    "# It means 3 matrix of size (64x64) pixels representing Red, Green and Blue components of pixels"
   ]
  },
  {
   "cell_type": "code",
   "execution_count": 19,
   "id": "32963cf9",
   "metadata": {},
   "outputs": [],
   "source": [
    "classifier.add(Convolution2D(32, kernel_size=(3,3),\n",
    "                            input_shape=(64,64,3), activation ='relu'))"
   ]
  },
  {
   "cell_type": "code",
   "execution_count": 20,
   "id": "d839be54",
   "metadata": {},
   "outputs": [],
   "source": [
    "#STEP 2- Max Pooling"
   ]
  },
  {
   "cell_type": "code",
   "execution_count": 21,
   "id": "89846aab",
   "metadata": {},
   "outputs": [],
   "source": [
    "classifier.add(MaxPool2D(pool_size=(2,2)))"
   ]
  },
  {
   "cell_type": "code",
   "execution_count": 22,
   "id": "2b18d1c4",
   "metadata": {},
   "outputs": [],
   "source": [
    "# Additional layer of convolution for better accuracy"
   ]
  },
  {
   "cell_type": "code",
   "execution_count": 23,
   "id": "1170bde1",
   "metadata": {},
   "outputs": [],
   "source": [
    "classifier.add(Convolution2D(64, kernel_size=(3,3), activation='relu'))"
   ]
  },
  {
   "cell_type": "code",
   "execution_count": 24,
   "id": "26797a27",
   "metadata": {},
   "outputs": [],
   "source": [
    "classifier.add(MaxPool2D(pool_size=(2,2)))"
   ]
  },
  {
   "cell_type": "code",
   "execution_count": 25,
   "id": "31e1c251",
   "metadata": {},
   "outputs": [],
   "source": [
    "#STEP 3- Flattening"
   ]
  },
  {
   "cell_type": "code",
   "execution_count": 26,
   "id": "abef6142",
   "metadata": {},
   "outputs": [],
   "source": [
    "classifier.add(Flatten())"
   ]
  },
  {
   "cell_type": "code",
   "execution_count": 27,
   "id": "d2e9867d",
   "metadata": {},
   "outputs": [],
   "source": [
    "#STEP 4 - Fully connected neural network"
   ]
  },
  {
   "cell_type": "code",
   "execution_count": 28,
   "id": "5bc26754",
   "metadata": {},
   "outputs": [],
   "source": [
    "classifier.add(Dense(64, activation='relu'))"
   ]
  },
  {
   "cell_type": "code",
   "execution_count": 29,
   "id": "ab05d9c6",
   "metadata": {},
   "outputs": [],
   "source": [
    "classifier.add(Dense(17, activation='softmax'))"
   ]
  },
  {
   "cell_type": "code",
   "execution_count": 30,
   "id": "1521fca7",
   "metadata": {},
   "outputs": [
    {
     "name": "stdout",
     "output_type": "stream",
     "text": [
      "Model: \"sequential\"\n",
      "_________________________________________________________________\n",
      " Layer (type)                Output Shape              Param #   \n",
      "=================================================================\n",
      " conv2d (Conv2D)             (None, 62, 62, 32)        896       \n",
      "                                                                 \n",
      " max_pooling2d (MaxPooling2D  (None, 31, 31, 32)       0         \n",
      " )                                                               \n",
      "                                                                 \n",
      " conv2d_1 (Conv2D)           (None, 29, 29, 64)        18496     \n",
      "                                                                 \n",
      " max_pooling2d_1 (MaxPooling  (None, 14, 14, 64)       0         \n",
      " 2D)                                                             \n",
      "                                                                 \n",
      " flatten (Flatten)           (None, 12544)             0         \n",
      "                                                                 \n",
      " dense (Dense)               (None, 64)                802880    \n",
      "                                                                 \n",
      " dense_1 (Dense)             (None, 17)                1105      \n",
      "                                                                 \n",
      "=================================================================\n",
      "Total params: 823,377\n",
      "Trainable params: 823,377\n",
      "Non-trainable params: 0\n",
      "_________________________________________________________________\n"
     ]
    }
   ],
   "source": [
    "classifier.summary()"
   ]
  },
  {
   "cell_type": "markdown",
   "id": "aa3726de",
   "metadata": {},
   "source": [
    "# Compiler"
   ]
  },
  {
   "cell_type": "code",
   "execution_count": 31,
   "id": "b7cdf085",
   "metadata": {},
   "outputs": [],
   "source": [
    "# Compiling the CNN"
   ]
  },
  {
   "cell_type": "code",
   "execution_count": 32,
   "id": "21641481",
   "metadata": {},
   "outputs": [],
   "source": [
    "classifier.compile(loss='categorical_crossentropy',\n",
    "                  optimizer = 'adam', metrics =['accuracy'])"
   ]
  },
  {
   "cell_type": "markdown",
   "id": "e1a12966",
   "metadata": {},
   "source": [
    "# Execution of model"
   ]
  },
  {
   "cell_type": "code",
   "execution_count": 33,
   "id": "36a06941",
   "metadata": {},
   "outputs": [],
   "source": [
    "# Starting the model training"
   ]
  },
  {
   "cell_type": "code",
   "execution_count": 34,
   "id": "48f4fa72",
   "metadata": {},
   "outputs": [
    {
     "name": "stderr",
     "output_type": "stream",
     "text": [
      "C:\\Users\\Sambhu\\AppData\\Local\\Temp\\ipykernel_23616\\2354014473.py:1: UserWarning: `Model.fit_generator` is deprecated and will be removed in a future version. Please use `Model.fit`, which supports generators.\n",
      "  history = classifier.fit_generator(training_set, epochs =20,\n"
     ]
    },
    {
     "name": "stdout",
     "output_type": "stream",
     "text": [
      "Epoch 1/20\n",
      "7/7 [==============================] - 24s 4s/step - loss: 2.8782 - accuracy: 0.0515 - val_loss: 2.7412 - val_accuracy: 0.1471\n",
      "Epoch 2/20\n",
      "7/7 [==============================] - 14s 2s/step - loss: 2.5353 - accuracy: 0.2868 - val_loss: 2.5048 - val_accuracy: 0.2059\n",
      "Epoch 3/20\n",
      "7/7 [==============================] - 14s 2s/step - loss: 1.9811 - accuracy: 0.4559 - val_loss: 2.2676 - val_accuracy: 0.2941\n",
      "Epoch 4/20\n",
      "7/7 [==============================] - 14s 2s/step - loss: 1.4027 - accuracy: 0.7353 - val_loss: 2.0768 - val_accuracy: 0.4706\n",
      "Epoch 5/20\n",
      "7/7 [==============================] - 13s 2s/step - loss: 0.8708 - accuracy: 0.8235 - val_loss: 1.9339 - val_accuracy: 0.5294\n",
      "Epoch 6/20\n",
      "7/7 [==============================] - 13s 2s/step - loss: 0.4646 - accuracy: 0.9412 - val_loss: 1.9463 - val_accuracy: 0.5588\n",
      "Epoch 7/20\n",
      "7/7 [==============================] - 15s 2s/step - loss: 0.2528 - accuracy: 0.9632 - val_loss: 1.9640 - val_accuracy: 0.5588\n",
      "Epoch 8/20\n",
      "7/7 [==============================] - 14s 2s/step - loss: 0.1367 - accuracy: 0.9926 - val_loss: 1.8183 - val_accuracy: 0.6176\n",
      "Epoch 9/20\n",
      "7/7 [==============================] - 14s 2s/step - loss: 0.1144 - accuracy: 0.9779 - val_loss: 2.3831 - val_accuracy: 0.5882\n",
      "Epoch 10/20\n",
      "7/7 [==============================] - 14s 2s/step - loss: 0.0550 - accuracy: 0.9926 - val_loss: 2.2343 - val_accuracy: 0.5588\n",
      "Epoch 11/20\n",
      "7/7 [==============================] - 14s 2s/step - loss: 0.0195 - accuracy: 1.0000 - val_loss: 2.3326 - val_accuracy: 0.5882\n",
      "Epoch 12/20\n",
      "7/7 [==============================] - 15s 2s/step - loss: 0.0125 - accuracy: 1.0000 - val_loss: 2.3524 - val_accuracy: 0.5882\n",
      "Epoch 13/20\n",
      "7/7 [==============================] - 13s 2s/step - loss: 0.0101 - accuracy: 1.0000 - val_loss: 2.3263 - val_accuracy: 0.5882\n",
      "Epoch 14/20\n",
      "7/7 [==============================] - 13s 2s/step - loss: 0.0078 - accuracy: 1.0000 - val_loss: 2.2000 - val_accuracy: 0.5882\n",
      "Epoch 15/20\n",
      "7/7 [==============================] - 14s 2s/step - loss: 0.0042 - accuracy: 1.0000 - val_loss: 2.1036 - val_accuracy: 0.5882\n",
      "Epoch 16/20\n",
      "7/7 [==============================] - 15s 2s/step - loss: 0.0052 - accuracy: 1.0000 - val_loss: 2.1817 - val_accuracy: 0.5882\n",
      "Epoch 17/20\n",
      "7/7 [==============================] - 16s 2s/step - loss: 0.0033 - accuracy: 1.0000 - val_loss: 2.5285 - val_accuracy: 0.5882\n",
      "Epoch 18/20\n",
      "7/7 [==============================] - 18s 3s/step - loss: 0.0033 - accuracy: 1.0000 - val_loss: 2.3203 - val_accuracy: 0.5882\n",
      "Epoch 19/20\n",
      "7/7 [==============================] - 13s 2s/step - loss: 0.0033 - accuracy: 1.0000 - val_loss: 2.2232 - val_accuracy: 0.5882\n",
      "Epoch 20/20\n",
      "7/7 [==============================] - 13s 2s/step - loss: 0.0030 - accuracy: 1.0000 - val_loss: 2.5352 - val_accuracy: 0.5882\n"
     ]
    }
   ],
   "source": [
    "history = classifier.fit_generator(training_set, epochs =20,\n",
    "                                  validation_data=validation_set)"
   ]
  },
  {
   "cell_type": "markdown",
   "id": "a667778a",
   "metadata": {},
   "source": [
    "# Accuracy base model"
   ]
  },
  {
   "cell_type": "code",
   "execution_count": 35,
   "id": "da29d502",
   "metadata": {},
   "outputs": [],
   "source": [
    "#Displaying curves of loss and accuracy during training"
   ]
  },
  {
   "cell_type": "code",
   "execution_count": 36,
   "id": "6a3b388c",
   "metadata": {},
   "outputs": [],
   "source": [
    "import matplotlib.pyplot as plt"
   ]
  },
  {
   "cell_type": "code",
   "execution_count": 37,
   "id": "a2f54536",
   "metadata": {},
   "outputs": [],
   "source": [
    "acc = history.history['accuracy']"
   ]
  },
  {
   "cell_type": "code",
   "execution_count": 38,
   "id": "4d3c58b8",
   "metadata": {},
   "outputs": [],
   "source": [
    "val_acc = history.history['val_accuracy']"
   ]
  },
  {
   "cell_type": "code",
   "execution_count": 39,
   "id": "c4eade01",
   "metadata": {},
   "outputs": [],
   "source": [
    "loss = history.history['loss']"
   ]
  },
  {
   "cell_type": "code",
   "execution_count": 40,
   "id": "e04e4857",
   "metadata": {},
   "outputs": [],
   "source": [
    "val_loss = history.history['val_loss']"
   ]
  },
  {
   "cell_type": "code",
   "execution_count": 41,
   "id": "30d0b84f",
   "metadata": {},
   "outputs": [],
   "source": [
    "epochs = range(1, len(acc) + 1)"
   ]
  },
  {
   "cell_type": "code",
   "execution_count": 42,
   "id": "7002cc49",
   "metadata": {},
   "outputs": [
    {
     "data": {
      "text/plain": [
       "<Figure size 432x288 with 0 Axes>"
      ]
     },
     "execution_count": 42,
     "metadata": {},
     "output_type": "execute_result"
    },
    {
     "data": {
      "image/png": "[encoded data removed]",
      "text/plain": [
       "<Figure size 432x288 with 1 Axes>"
      ]
     },
     "metadata": {
      "needs_background": "light"
     },
     "output_type": "display_data"
    },
    {
     "data": {
      "text/plain": [
       "<Figure size 432x288 with 0 Axes>"
      ]
     },
     "metadata": {},
     "output_type": "display_data"
    }
   ],
   "source": [
    "plt.plot(epochs, acc, 'bo', label='Training acc')\n",
    "plt.plot(epochs, val_acc, 'r', label='Validation acc')\n",
    "plt.title('Training and validation accuracy')\n",
    "plt.legend()\n",
    "plt.figure()"
   ]
  },
  {
   "cell_type": "markdown",
   "id": "e204e892",
   "metadata": {},
   "source": [
    "# Loss base model"
   ]
  },
  {
   "cell_type": "code",
   "execution_count": 43,
   "id": "11e1d8e3",
   "metadata": {},
   "outputs": [
    {
     "data": {
      "text/plain": [
       "<Figure size 432x288 with 0 Axes>"
      ]
     },
     "execution_count": 43,
     "metadata": {},
     "output_type": "execute_result"
    },
    {
     "data": {
      "image/png": "[encoded data removed]",
      "text/plain": [
       "<Figure size 432x288 with 1 Axes>"
      ]
     },
     "metadata": {
      "needs_background": "light"
     },
     "output_type": "display_data"
    },
    {
     "data": {
      "text/plain": [
       "<Figure size 432x288 with 0 Axes>"
      ]
     },
     "metadata": {},
     "output_type": "display_data"
    }
   ],
   "source": [
    "plt.plot(epochs, loss, 'bo', label='Training loss')\n",
    "plt.plot(epochs, val_loss, 'r', label='Validation loss')\n",
    "plt.title('Training and validation loss')\n",
    "plt.legend()\n",
    "plt.figure()"
   ]
  },
  {
   "cell_type": "code",
   "execution_count": 44,
   "id": "e42e2f8e",
   "metadata": {},
   "outputs": [],
   "source": [
    "# Lets improve"
   ]
  },
  {
   "cell_type": "code",
   "execution_count": 45,
   "id": "938e7633",
   "metadata": {},
   "outputs": [],
   "source": [
    "# Model 2"
   ]
  },
  {
   "cell_type": "code",
   "execution_count": 46,
   "id": "d36a13e2",
   "metadata": {},
   "outputs": [],
   "source": [
    "# Adding parameters in the ImageDatagenerator"
   ]
  },
  {
   "cell_type": "code",
   "execution_count": 47,
   "id": "b327fbe6",
   "metadata": {},
   "outputs": [],
   "source": [
    "train_datagen = ImageDataGenerator(rescale=1./255, shear_range=0.5,\n",
    "                                  zoom_range=0.5, width_shift_range=0.2,\n",
    "                                  height_shift_range=0.2)"
   ]
  },
  {
   "cell_type": "code",
   "execution_count": 48,
   "id": "1cc4e1de",
   "metadata": {},
   "outputs": [],
   "source": [
    "# No transformations are done on the testing images"
   ]
  },
  {
   "cell_type": "code",
   "execution_count": 49,
   "id": "c95e3a4b",
   "metadata": {},
   "outputs": [],
   "source": [
    "test_datgen = ImageDataGenerator(rescale=1./255)"
   ]
  },
  {
   "cell_type": "code",
   "execution_count": 50,
   "id": "7a842909",
   "metadata": {},
   "outputs": [],
   "source": [
    "# Generating the training data"
   ]
  },
  {
   "cell_type": "code",
   "execution_count": 51,
   "id": "e4eec759",
   "metadata": {},
   "outputs": [
    {
     "name": "stdout",
     "output_type": "stream",
     "text": [
      "Found 136 images belonging to 17 classes.\n"
     ]
    }
   ],
   "source": [
    "training_set = train_datagen.flow_from_directory(TrainingImagePath,\n",
    "                                                target_size=(64,64),\n",
    "                                                batch_size=20,\n",
    "                                                class_mode='categorical')"
   ]
  },
  {
   "cell_type": "code",
   "execution_count": 52,
   "id": "31d3f981",
   "metadata": {},
   "outputs": [],
   "source": [
    "# Generating the validation data"
   ]
  },
  {
   "cell_type": "code",
   "execution_count": 53,
   "id": "2ac9a009",
   "metadata": {},
   "outputs": [
    {
     "name": "stdout",
     "output_type": "stream",
     "text": [
      "Found 34 images belonging to 17 classes.\n"
     ]
    }
   ],
   "source": [
    "validation_set = test_datagen.flow_from_directory(ValidationImagePath,\n",
    "                                                target_size=(64,64),\n",
    "                                                batch_size=20,\n",
    "                                                class_mode='categorical')"
   ]
  },
  {
   "cell_type": "code",
   "execution_count": 54,
   "id": "419ed527",
   "metadata": {},
   "outputs": [],
   "source": [
    "#Create Cnn deep learning model"
   ]
  },
  {
   "cell_type": "code",
   "execution_count": 55,
   "id": "dd2270d6",
   "metadata": {},
   "outputs": [],
   "source": [
    "from keras.models import Sequential\n",
    "from keras.layers import Convolution2D\n",
    "from keras.layers import MaxPool2D\n",
    "from keras.layers import Flatten\n",
    "from keras.layers import Dense"
   ]
  },
  {
   "cell_type": "code",
   "execution_count": 56,
   "id": "e7991c5a",
   "metadata": {},
   "outputs": [],
   "source": [
    "# Initializing the Convolutional Neural Network"
   ]
  },
  {
   "cell_type": "code",
   "execution_count": 57,
   "id": "b35b1bd3",
   "metadata": {},
   "outputs": [],
   "source": [
    "classifier = Sequential()"
   ]
  },
  {
   "cell_type": "code",
   "execution_count": 58,
   "id": "675de677",
   "metadata": {},
   "outputs": [],
   "source": [
    "# Convolution"
   ]
  },
  {
   "cell_type": "code",
   "execution_count": 59,
   "id": "41ea7190",
   "metadata": {},
   "outputs": [],
   "source": [
    "classifier.add(Convolution2D(32, kernel_size=(3,3),\n",
    "                            input_shape=(64,64,3), activation ='relu'))"
   ]
  },
  {
   "cell_type": "code",
   "execution_count": 60,
   "id": "67ccb2d7",
   "metadata": {},
   "outputs": [],
   "source": [
    "#Max Pooling"
   ]
  },
  {
   "cell_type": "code",
   "execution_count": 61,
   "id": "4274ae60",
   "metadata": {},
   "outputs": [],
   "source": [
    "classifier.add(MaxPool2D(pool_size=(2,2)))"
   ]
  },
  {
   "cell_type": "code",
   "execution_count": 62,
   "id": "09ee17bb",
   "metadata": {},
   "outputs": [],
   "source": [
    "# Additional layer of convolution for better accuracy"
   ]
  },
  {
   "cell_type": "code",
   "execution_count": 63,
   "id": "59700aaf",
   "metadata": {},
   "outputs": [],
   "source": [
    "classifier.add(Convolution2D(64, kernel_size=(3,3), activation='relu'))"
   ]
  },
  {
   "cell_type": "code",
   "execution_count": 64,
   "id": "6a26d79a",
   "metadata": {},
   "outputs": [],
   "source": [
    "classifier.add(MaxPool2D(pool_size=(2,2)))"
   ]
  },
  {
   "cell_type": "code",
   "execution_count": 65,
   "id": "63e421f6",
   "metadata": {},
   "outputs": [],
   "source": [
    "#Flattening"
   ]
  },
  {
   "cell_type": "code",
   "execution_count": 66,
   "id": "ee3eb2d6",
   "metadata": {},
   "outputs": [],
   "source": [
    "classifier.add(Flatten())"
   ]
  },
  {
   "cell_type": "code",
   "execution_count": 67,
   "id": "521c5572",
   "metadata": {},
   "outputs": [],
   "source": [
    "#Fully connected neural network"
   ]
  },
  {
   "cell_type": "code",
   "execution_count": 68,
   "id": "4b484240",
   "metadata": {},
   "outputs": [],
   "source": [
    "classifier.add(Dense(64, activation='relu'))#hidden layer"
   ]
  },
  {
   "cell_type": "code",
   "execution_count": 76,
   "id": "9c0df7bb",
   "metadata": {},
   "outputs": [],
   "source": [
    "classifier.add(Dense(17, activation='softmax'))#output layer"
   ]
  },
  {
   "cell_type": "code",
   "execution_count": 77,
   "id": "2a29ce4b",
   "metadata": {},
   "outputs": [
    {
     "name": "stdout",
     "output_type": "stream",
     "text": [
      "Model: \"sequential_1\"\n",
      "_________________________________________________________________\n",
      " Layer (type)                Output Shape              Param #   \n",
      "=================================================================\n",
      " conv2d_2 (Conv2D)           (None, 62, 62, 32)        896       \n",
      "                                                                 \n",
      " max_pooling2d_2 (MaxPooling  (None, 31, 31, 32)       0         \n",
      " 2D)                                                             \n",
      "                                                                 \n",
      " conv2d_3 (Conv2D)           (None, 29, 29, 64)        18496     \n",
      "                                                                 \n",
      " max_pooling2d_3 (MaxPooling  (None, 14, 14, 64)       0         \n",
      " 2D)                                                             \n",
      "                                                                 \n",
      " flatten_1 (Flatten)         (None, 12544)             0         \n",
      "                                                                 \n",
      " dense_2 (Dense)             (None, 64)                802880    \n",
      "                                                                 \n",
      " dense_3 (Dense)             (None, 11)                715       \n",
      "                                                                 \n",
      " dense_4 (Dense)             (None, 17)                204       \n",
      "                                                                 \n",
      "=================================================================\n",
      "Total params: 823,191\n",
      "Trainable params: 823,191\n",
      "Non-trainable params: 0\n",
      "_________________________________________________________________\n"
     ]
    }
   ],
   "source": [
    "classifier.summary()"
   ]
  },
  {
   "cell_type": "code",
   "execution_count": 78,
   "id": "10684d06",
   "metadata": {},
   "outputs": [],
   "source": [
    "#Compiler"
   ]
  },
  {
   "cell_type": "code",
   "execution_count": 79,
   "id": "cc589088",
   "metadata": {},
   "outputs": [],
   "source": [
    "classifier.compile(loss='categorical_crossentropy',\n",
    "                  optimizer='adam', metrics=['accuracy'])"
   ]
  },
  {
   "cell_type": "code",
   "execution_count": 80,
   "id": "74654438",
   "metadata": {},
   "outputs": [],
   "source": [
    "#Execute"
   ]
  },
  {
   "cell_type": "code",
   "execution_count": 81,
   "id": "e2cf2a98",
   "metadata": {},
   "outputs": [],
   "source": [
    "#Starting the model training"
   ]
  },
  {
   "cell_type": "code",
   "execution_count": 82,
   "id": "76babdab",
   "metadata": {},
   "outputs": [
    {
     "name": "stderr",
     "output_type": "stream",
     "text": [
      "C:\\Users\\Sambhu\\AppData\\Local\\Temp\\ipykernel_23616\\346272482.py:1: UserWarning: `Model.fit_generator` is deprecated and will be removed in a future version. Please use `Model.fit`, which supports generators.\n",
      "  history = classifier.fit_generator(training_set, epochs =100,\n"
     ]
    },
    {
     "name": "stdout",
     "output_type": "stream",
     "text": [
      "Epoch 1/100\n",
      "7/7 [==============================] - 20s 3s/step - loss: 2.8455 - accuracy: 0.0441 - val_loss: 2.8329 - val_accuracy: 0.0588\n",
      "Epoch 2/100\n",
      "7/7 [==============================] - 14s 2s/step - loss: 2.8338 - accuracy: 0.0662 - val_loss: 2.8290 - val_accuracy: 0.0588\n",
      "Epoch 3/100\n",
      "7/7 [==============================] - 14s 2s/step - loss: 2.8294 - accuracy: 0.1029 - val_loss: 2.8224 - val_accuracy: 0.0588\n",
      "Epoch 4/100\n",
      "7/7 [==============================] - 13s 2s/step - loss: 2.8138 - accuracy: 0.1029 - val_loss: 2.8157 - val_accuracy: 0.0588\n",
      "Epoch 5/100\n",
      "7/7 [==============================] - 13s 2s/step - loss: 2.8084 - accuracy: 0.1324 - val_loss: 2.8256 - val_accuracy: 0.0000e+00\n",
      "Epoch 6/100\n",
      "7/7 [==============================] - 13s 2s/step - loss: 2.7848 - accuracy: 0.1176 - val_loss: 2.7994 - val_accuracy: 0.0882\n",
      "Epoch 7/100\n",
      "7/7 [==============================] - 13s 2s/step - loss: 2.7558 - accuracy: 0.1471 - val_loss: 2.7922 - val_accuracy: 0.0882\n",
      "Epoch 8/100\n",
      "7/7 [==============================] - 13s 2s/step - loss: 2.7487 - accuracy: 0.1397 - val_loss: 2.7957 - val_accuracy: 0.1176\n",
      "Epoch 9/100\n",
      "7/7 [==============================] - 13s 2s/step - loss: 2.7287 - accuracy: 0.1912 - val_loss: 2.8052 - val_accuracy: 0.0882\n",
      "Epoch 10/100\n",
      "7/7 [==============================] - 13s 2s/step - loss: 2.7397 - accuracy: 0.1176 - val_loss: 2.7854 - val_accuracy: 0.0882\n",
      "Epoch 11/100\n",
      "7/7 [==============================] - 13s 2s/step - loss: 2.7327 - accuracy: 0.1618 - val_loss: 2.7898 - val_accuracy: 0.0882\n",
      "Epoch 12/100\n",
      "7/7 [==============================] - 13s 2s/step - loss: 2.7164 - accuracy: 0.1397 - val_loss: 2.7505 - val_accuracy: 0.0588\n",
      "Epoch 13/100\n",
      "7/7 [==============================] - 13s 2s/step - loss: 2.6994 - accuracy: 0.1471 - val_loss: 2.7671 - val_accuracy: 0.0882\n",
      "Epoch 14/100\n",
      "7/7 [==============================] - 13s 2s/step - loss: 2.6965 - accuracy: 0.1250 - val_loss: 2.7526 - val_accuracy: 0.1176\n",
      "Epoch 15/100\n",
      "7/7 [==============================] - 14s 2s/step - loss: 2.7123 - accuracy: 0.1397 - val_loss: 2.7583 - val_accuracy: 0.0882\n",
      "Epoch 16/100\n",
      "7/7 [==============================] - 14s 2s/step - loss: 2.7008 - accuracy: 0.1250 - val_loss: 2.7289 - val_accuracy: 0.0882\n",
      "Epoch 17/100\n",
      "7/7 [==============================] - 13s 2s/step - loss: 2.6691 - accuracy: 0.1838 - val_loss: 2.7410 - val_accuracy: 0.1176\n",
      "Epoch 18/100\n",
      "7/7 [==============================] - 13s 2s/step - loss: 2.6486 - accuracy: 0.2500 - val_loss: 2.7288 - val_accuracy: 0.1176\n",
      "Epoch 19/100\n",
      "7/7 [==============================] - 13s 2s/step - loss: 2.6722 - accuracy: 0.1324 - val_loss: 2.7201 - val_accuracy: 0.0882\n",
      "Epoch 20/100\n",
      "7/7 [==============================] - 13s 2s/step - loss: 2.6578 - accuracy: 0.1250 - val_loss: 2.7245 - val_accuracy: 0.0882\n",
      "Epoch 21/100\n",
      "7/7 [==============================] - 13s 2s/step - loss: 2.6387 - accuracy: 0.1324 - val_loss: 2.6982 - val_accuracy: 0.2353\n",
      "Epoch 22/100\n",
      "7/7 [==============================] - 13s 2s/step - loss: 2.6401 - accuracy: 0.1912 - val_loss: 2.7172 - val_accuracy: 0.1176\n",
      "Epoch 23/100\n",
      "7/7 [==============================] - 13s 2s/step - loss: 2.6278 - accuracy: 0.1765 - val_loss: 2.6916 - val_accuracy: 0.2059\n",
      "Epoch 24/100\n",
      "7/7 [==============================] - 13s 2s/step - loss: 2.6160 - accuracy: 0.2059 - val_loss: 2.7578 - val_accuracy: 0.0882\n",
      "Epoch 25/100\n",
      "7/7 [==============================] - 14s 2s/step - loss: 2.6041 - accuracy: 0.2206 - val_loss: 2.6901 - val_accuracy: 0.1471\n",
      "Epoch 26/100\n",
      "7/7 [==============================] - 14s 2s/step - loss: 2.6021 - accuracy: 0.1765 - val_loss: 2.6882 - val_accuracy: 0.2059\n",
      "Epoch 27/100\n",
      "7/7 [==============================] - 14s 2s/step - loss: 2.5920 - accuracy: 0.2206 - val_loss: 2.6971 - val_accuracy: 0.1176\n",
      "Epoch 28/100\n",
      "7/7 [==============================] - 13s 2s/step - loss: 2.5945 - accuracy: 0.1618 - val_loss: 2.6875 - val_accuracy: 0.1176\n",
      "Epoch 29/100\n",
      "7/7 [==============================] - 14s 2s/step - loss: 2.5846 - accuracy: 0.1838 - val_loss: 2.6797 - val_accuracy: 0.1176\n",
      "Epoch 30/100\n",
      "7/7 [==============================] - 13s 2s/step - loss: 2.5802 - accuracy: 0.2426 - val_loss: 2.6828 - val_accuracy: 0.1176\n",
      "Epoch 31/100\n",
      "7/7 [==============================] - 13s 2s/step - loss: 2.5635 - accuracy: 0.1912 - val_loss: 2.6589 - val_accuracy: 0.1765\n",
      "Epoch 32/100\n",
      "7/7 [==============================] - 13s 2s/step - loss: 2.5380 - accuracy: 0.2353 - val_loss: 2.7113 - val_accuracy: 0.1176\n",
      "Epoch 33/100\n",
      "7/7 [==============================] - 13s 2s/step - loss: 2.5814 - accuracy: 0.1397 - val_loss: 2.7096 - val_accuracy: 0.1176\n",
      "Epoch 34/100\n",
      "7/7 [==============================] - 14s 2s/step - loss: 2.5951 - accuracy: 0.1544 - val_loss: 2.6619 - val_accuracy: 0.1471\n",
      "Epoch 35/100\n",
      "7/7 [==============================] - 13s 2s/step - loss: 2.5644 - accuracy: 0.1985 - val_loss: 2.6794 - val_accuracy: 0.1176\n",
      "Epoch 36/100\n",
      "7/7 [==============================] - 14s 2s/step - loss: 2.5682 - accuracy: 0.1691 - val_loss: 2.6448 - val_accuracy: 0.1471\n",
      "Epoch 37/100\n",
      "7/7 [==============================] - 13s 2s/step - loss: 2.5400 - accuracy: 0.2500 - val_loss: 2.6377 - val_accuracy: 0.1765\n",
      "Epoch 38/100\n",
      "7/7 [==============================] - 14s 2s/step - loss: 2.5242 - accuracy: 0.1985 - val_loss: 2.6512 - val_accuracy: 0.2353\n",
      "Epoch 39/100\n",
      "7/7 [==============================] - 14s 2s/step - loss: 2.5399 - accuracy: 0.2059 - val_loss: 2.6483 - val_accuracy: 0.1176\n",
      "Epoch 40/100\n",
      "7/7 [==============================] - 14s 2s/step - loss: 2.5349 - accuracy: 0.1985 - val_loss: 2.6724 - val_accuracy: 0.1176\n",
      "Epoch 41/100\n",
      "7/7 [==============================] - 14s 2s/step - loss: 2.4941 - accuracy: 0.2059 - val_loss: 2.6417 - val_accuracy: 0.1471\n",
      "Epoch 42/100\n",
      "7/7 [==============================] - 14s 2s/step - loss: 2.4938 - accuracy: 0.2206 - val_loss: 2.6419 - val_accuracy: 0.1176\n",
      "Epoch 43/100\n",
      "7/7 [==============================] - 14s 2s/step - loss: 2.5077 - accuracy: 0.2132 - val_loss: 2.6305 - val_accuracy: 0.1765\n",
      "Epoch 44/100\n",
      "7/7 [==============================] - 15s 2s/step - loss: 2.4908 - accuracy: 0.2132 - val_loss: 2.6347 - val_accuracy: 0.0588\n",
      "Epoch 45/100\n",
      "7/7 [==============================] - 14s 2s/step - loss: 2.4719 - accuracy: 0.2353 - val_loss: 2.6154 - val_accuracy: 0.1176\n",
      "Epoch 46/100\n",
      "7/7 [==============================] - 15s 2s/step - loss: 2.4571 - accuracy: 0.2794 - val_loss: 2.6110 - val_accuracy: 0.1176\n",
      "Epoch 47/100\n",
      "7/7 [==============================] - 15s 2s/step - loss: 2.4850 - accuracy: 0.2206 - val_loss: 2.6103 - val_accuracy: 0.1176\n",
      "Epoch 48/100\n",
      "7/7 [==============================] - 14s 2s/step - loss: 2.4772 - accuracy: 0.2279 - val_loss: 2.5935 - val_accuracy: 0.1471\n",
      "Epoch 49/100\n",
      "7/7 [==============================] - 14s 2s/step - loss: 2.4719 - accuracy: 0.1985 - val_loss: 2.6055 - val_accuracy: 0.1176\n",
      "Epoch 50/100\n",
      "7/7 [==============================] - 14s 2s/step - loss: 2.4249 - accuracy: 0.2721 - val_loss: 2.5991 - val_accuracy: 0.1176\n",
      "Epoch 51/100\n",
      "7/7 [==============================] - 14s 2s/step - loss: 2.4233 - accuracy: 0.2794 - val_loss: 2.5987 - val_accuracy: 0.1176\n",
      "Epoch 52/100\n",
      "7/7 [==============================] - 14s 2s/step - loss: 2.4288 - accuracy: 0.2426 - val_loss: 2.6060 - val_accuracy: 0.1471\n",
      "Epoch 53/100\n",
      "7/7 [==============================] - 14s 2s/step - loss: 2.4556 - accuracy: 0.2279 - val_loss: 2.6384 - val_accuracy: 0.1176\n",
      "Epoch 54/100\n",
      "7/7 [==============================] - 14s 2s/step - loss: 2.4437 - accuracy: 0.2206 - val_loss: 2.6012 - val_accuracy: 0.1471\n",
      "Epoch 55/100\n",
      "7/7 [==============================] - 15s 2s/step - loss: 2.4244 - accuracy: 0.2574 - val_loss: 2.5894 - val_accuracy: 0.1176\n",
      "Epoch 56/100\n",
      "7/7 [==============================] - 14s 2s/step - loss: 2.4389 - accuracy: 0.2647 - val_loss: 2.5882 - val_accuracy: 0.1176\n",
      "Epoch 57/100\n",
      "7/7 [==============================] - 14s 2s/step - loss: 2.4216 - accuracy: 0.1985 - val_loss: 2.5830 - val_accuracy: 0.1176\n",
      "Epoch 58/100\n",
      "7/7 [==============================] - 14s 2s/step - loss: 2.4089 - accuracy: 0.2353 - val_loss: 2.5782 - val_accuracy: 0.1176\n",
      "Epoch 59/100\n"
     ]
    },
    {
     "name": "stdout",
     "output_type": "stream",
     "text": [
      "7/7 [==============================] - 14s 2s/step - loss: 2.3883 - accuracy: 0.2647 - val_loss: 2.5768 - val_accuracy: 0.1176\n",
      "Epoch 60/100\n",
      "7/7 [==============================] - 14s 2s/step - loss: 2.4029 - accuracy: 0.2206 - val_loss: 2.5748 - val_accuracy: 0.1176\n",
      "Epoch 61/100\n",
      "7/7 [==============================] - 14s 2s/step - loss: 2.4153 - accuracy: 0.1985 - val_loss: 2.5759 - val_accuracy: 0.1176\n",
      "Epoch 62/100\n",
      "7/7 [==============================] - 14s 2s/step - loss: 2.3744 - accuracy: 0.2500 - val_loss: 2.5695 - val_accuracy: 0.1176\n",
      "Epoch 63/100\n",
      "7/7 [==============================] - 15s 2s/step - loss: 2.4107 - accuracy: 0.2206 - val_loss: 2.5684 - val_accuracy: 0.1176\n",
      "Epoch 64/100\n",
      "7/7 [==============================] - 13s 2s/step - loss: 2.3626 - accuracy: 0.2721 - val_loss: 2.5675 - val_accuracy: 0.1176\n",
      "Epoch 65/100\n",
      "7/7 [==============================] - 13s 2s/step - loss: 2.3545 - accuracy: 0.2426 - val_loss: 2.5624 - val_accuracy: 0.1176\n",
      "Epoch 66/100\n",
      "7/7 [==============================] - 16s 2s/step - loss: 2.3548 - accuracy: 0.2574 - val_loss: 2.5741 - val_accuracy: 0.1176\n",
      "Epoch 67/100\n",
      "7/7 [==============================] - 16s 2s/step - loss: 2.3562 - accuracy: 0.2574 - val_loss: 2.5563 - val_accuracy: 0.1176\n",
      "Epoch 68/100\n",
      "7/7 [==============================] - 14s 2s/step - loss: 2.3555 - accuracy: 0.2868 - val_loss: 2.5570 - val_accuracy: 0.1176\n",
      "Epoch 69/100\n",
      "7/7 [==============================] - 14s 2s/step - loss: 2.3537 - accuracy: 0.2574 - val_loss: 2.5613 - val_accuracy: 0.1176\n",
      "Epoch 70/100\n",
      "7/7 [==============================] - 14s 2s/step - loss: 2.3429 - accuracy: 0.2500 - val_loss: 2.5591 - val_accuracy: 0.1176\n",
      "Epoch 71/100\n",
      "7/7 [==============================] - 14s 2s/step - loss: 2.3216 - accuracy: 0.2647 - val_loss: 2.5657 - val_accuracy: 0.1176\n",
      "Epoch 72/100\n",
      "7/7 [==============================] - 17s 3s/step - loss: 2.3382 - accuracy: 0.2647 - val_loss: 2.5549 - val_accuracy: 0.1176\n",
      "Epoch 73/100\n",
      "7/7 [==============================] - 16s 2s/step - loss: 2.3211 - accuracy: 0.2206 - val_loss: 2.5511 - val_accuracy: 0.1176\n",
      "Epoch 74/100\n",
      "7/7 [==============================] - 17s 2s/step - loss: 2.3163 - accuracy: 0.2279 - val_loss: 2.5467 - val_accuracy: 0.1176\n",
      "Epoch 75/100\n",
      "7/7 [==============================] - 15s 2s/step - loss: 2.3176 - accuracy: 0.2353 - val_loss: 2.5432 - val_accuracy: 0.1176\n",
      "Epoch 76/100\n",
      "7/7 [==============================] - 14s 2s/step - loss: 2.3235 - accuracy: 0.2868 - val_loss: 2.5369 - val_accuracy: 0.1176\n",
      "Epoch 77/100\n",
      "7/7 [==============================] - 13s 2s/step - loss: 2.3151 - accuracy: 0.2426 - val_loss: 2.5368 - val_accuracy: 0.1176\n",
      "Epoch 78/100\n",
      "7/7 [==============================] - 13s 2s/step - loss: 2.3020 - accuracy: 0.2353 - val_loss: 2.5528 - val_accuracy: 0.1176\n",
      "Epoch 79/100\n",
      "7/7 [==============================] - 14s 2s/step - loss: 2.2884 - accuracy: 0.2500 - val_loss: 2.5355 - val_accuracy: 0.1176\n",
      "Epoch 80/100\n",
      "7/7 [==============================] - 14s 2s/step - loss: 2.2664 - accuracy: 0.2426 - val_loss: 2.5446 - val_accuracy: 0.1176\n",
      "Epoch 81/100\n",
      "7/7 [==============================] - 14s 2s/step - loss: 2.2766 - accuracy: 0.2647 - val_loss: 2.5478 - val_accuracy: 0.1176\n",
      "Epoch 82/100\n",
      "7/7 [==============================] - 13s 2s/step - loss: 2.3017 - accuracy: 0.2647 - val_loss: 2.4677 - val_accuracy: 0.1765\n",
      "Epoch 83/100\n",
      "7/7 [==============================] - 14s 2s/step - loss: 2.3269 - accuracy: 0.2353 - val_loss: 2.5339 - val_accuracy: 0.1176\n",
      "Epoch 84/100\n",
      "7/7 [==============================] - 13s 2s/step - loss: 2.3781 - accuracy: 0.1912 - val_loss: 2.5794 - val_accuracy: 0.1176\n",
      "Epoch 85/100\n",
      "7/7 [==============================] - 14s 2s/step - loss: 2.4158 - accuracy: 0.2059 - val_loss: 2.5611 - val_accuracy: 0.1176\n",
      "Epoch 86/100\n",
      "7/7 [==============================] - 13s 2s/step - loss: 2.3603 - accuracy: 0.1838 - val_loss: 2.5324 - val_accuracy: 0.1176\n",
      "Epoch 87/100\n",
      "7/7 [==============================] - 14s 2s/step - loss: 2.3522 - accuracy: 0.2206 - val_loss: 2.5289 - val_accuracy: 0.1176\n",
      "Epoch 88/100\n",
      "7/7 [==============================] - 13s 2s/step - loss: 2.3313 - accuracy: 0.1691 - val_loss: 2.5279 - val_accuracy: 0.1176\n",
      "Epoch 89/100\n",
      "7/7 [==============================] - 14s 2s/step - loss: 2.2761 - accuracy: 0.2206 - val_loss: 2.5369 - val_accuracy: 0.1176\n",
      "Epoch 90/100\n",
      "7/7 [==============================] - 13s 2s/step - loss: 2.2455 - accuracy: 0.2353 - val_loss: 2.5186 - val_accuracy: 0.1176\n",
      "Epoch 91/100\n",
      "7/7 [==============================] - 14s 2s/step - loss: 2.2489 - accuracy: 0.2500 - val_loss: 2.5196 - val_accuracy: 0.1176\n",
      "Epoch 92/100\n",
      "7/7 [==============================] - 14s 2s/step - loss: 2.2538 - accuracy: 0.2426 - val_loss: 2.5327 - val_accuracy: 0.1176\n",
      "Epoch 93/100\n",
      "7/7 [==============================] - 13s 2s/step - loss: 2.2312 - accuracy: 0.2721 - val_loss: 2.5150 - val_accuracy: 0.1176\n",
      "Epoch 94/100\n",
      "7/7 [==============================] - 13s 2s/step - loss: 2.2322 - accuracy: 0.2574 - val_loss: 2.5301 - val_accuracy: 0.1176\n",
      "Epoch 95/100\n",
      "7/7 [==============================] - 14s 2s/step - loss: 2.2220 - accuracy: 0.2500 - val_loss: 2.5108 - val_accuracy: 0.1176\n",
      "Epoch 96/100\n",
      "7/7 [==============================] - 16s 2s/step - loss: 2.2017 - accuracy: 0.2647 - val_loss: 2.5104 - val_accuracy: 0.1176\n",
      "Epoch 97/100\n",
      "7/7 [==============================] - 14s 2s/step - loss: 2.2127 - accuracy: 0.2426 - val_loss: 2.5071 - val_accuracy: 0.1176\n",
      "Epoch 98/100\n",
      "7/7 [==============================] - 13s 2s/step - loss: 2.2321 - accuracy: 0.2647 - val_loss: 2.5059 - val_accuracy: 0.1176\n",
      "Epoch 99/100\n",
      "7/7 [==============================] - 14s 2s/step - loss: 2.2035 - accuracy: 0.2500 - val_loss: 2.5059 - val_accuracy: 0.1176\n",
      "Epoch 100/100\n",
      "7/7 [==============================] - 14s 2s/step - loss: 2.1983 - accuracy: 0.2279 - val_loss: 2.5031 - val_accuracy: 0.1176\n"
     ]
    }
   ],
   "source": [
    "history = classifier.fit_generator(training_set, epochs =100,\n",
    "                                  validation_data=validation_set)"
   ]
  },
  {
   "cell_type": "code",
   "execution_count": 83,
   "id": "5c14f6a1",
   "metadata": {},
   "outputs": [],
   "source": [
    "#Displaying curves of loss and accuracy during training"
   ]
  },
  {
   "cell_type": "code",
   "execution_count": 84,
   "id": "b208c4af",
   "metadata": {},
   "outputs": [],
   "source": [
    "import matplotlib.pyplot as plt"
   ]
  },
  {
   "cell_type": "code",
   "execution_count": 85,
   "id": "661ff31e",
   "metadata": {},
   "outputs": [],
   "source": [
    "acc = history.history['accuracy']"
   ]
  },
  {
   "cell_type": "code",
   "execution_count": 86,
   "id": "fee6cad0",
   "metadata": {},
   "outputs": [],
   "source": [
    "val_acc = history.history['val_accuracy']"
   ]
  },
  {
   "cell_type": "code",
   "execution_count": 87,
   "id": "b81a782b",
   "metadata": {},
   "outputs": [],
   "source": [
    "loss = history.history['loss']"
   ]
  },
  {
   "cell_type": "code",
   "execution_count": 88,
   "id": "32a8ec9e",
   "metadata": {},
   "outputs": [],
   "source": [
    "val_loss = history.history['val_loss']"
   ]
  },
  {
   "cell_type": "code",
   "execution_count": 89,
   "id": "18374cbe",
   "metadata": {},
   "outputs": [],
   "source": [
    "epochs = range(1, len(acc) + 1)"
   ]
  },
  {
   "cell_type": "code",
   "execution_count": 90,
   "id": "9e1bc8ea",
   "metadata": {},
   "outputs": [
    {
     "data": {
      "text/plain": [
       "<Figure size 432x288 with 0 Axes>"
      ]
     },
     "execution_count": 90,
     "metadata": {},
     "output_type": "execute_result"
    },
    {
     "data": {
      "image/png": "[encoded data removed]",
      "text/plain": [
       "<Figure size 432x288 with 1 Axes>"
      ]
     },
     "metadata": {
      "needs_background": "light"
     },
     "output_type": "display_data"
    },
    {
     "data": {
      "text/plain": [
       "<Figure size 432x288 with 0 Axes>"
      ]
     },
     "metadata": {},
     "output_type": "display_data"
    }
   ],
   "source": [
    "plt.plot(epochs, acc, 'bo', label='Training acc')\n",
    "plt.plot(epochs, val_acc, 'g', label='Validation acc')\n",
    "plt.title('Training and validation accuracy')\n",
    "plt.legend()\n",
    "plt.figure()"
   ]
  },
  {
   "cell_type": "code",
   "execution_count": 91,
   "id": "b9a1412f",
   "metadata": {},
   "outputs": [
    {
     "data": {
      "text/plain": [
       "<Figure size 432x288 with 0 Axes>"
      ]
     },
     "execution_count": 91,
     "metadata": {},
     "output_type": "execute_result"
    },
    {
     "data": {
      "image/png": "[encoded data removed]",
      "text/plain": [
       "<Figure size 432x288 with 1 Axes>"
      ]
     },
     "metadata": {
      "needs_background": "light"
     },
     "output_type": "display_data"
    },
    {
     "data": {
      "text/plain": [
       "<Figure size 432x288 with 0 Axes>"
      ]
     },
     "metadata": {},
     "output_type": "display_data"
    }
   ],
   "source": [
    "plt.plot(epochs, loss, 'bo', label='Training loss')\n",
    "plt.plot(epochs, val_loss, 'g', label='Validation loss')\n",
    "plt.title('Training and validation loss')\n",
    "plt.legend()\n",
    "plt.figure()"
   ]
  },
  {
   "cell_type": "code",
   "execution_count": null,
   "id": "16f07878",
   "metadata": {},
   "outputs": [],
   "source": []
  }
 ],
 "metadata": {
  "kernelspec": {
   "display_name": "Python 3 (ipykernel)",
   "language": "python",
   "name": "python3"
  },
  "language_info": {
   "codemirror_mode": {
    "name": "ipython",
    "version": 3
   },
   "file_extension": ".py",
   "mimetype": "text/x-python",
   "name": "python",
   "nbconvert_exporter": "python",
   "pygments_lexer": "ipython3",
   "version": "3.9.12"
  }
 },
 "nbformat": 4,
 "nbformat_minor": 5
}
